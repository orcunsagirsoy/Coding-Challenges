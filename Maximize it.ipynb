{
 "cells": [
  {
   "cell_type": "code",
   "execution_count": null,
   "metadata": {},
   "outputs": [],
   "source": [
    "if __name__ == '__main__':\n",
    "    a = list(map(int, input().split()))\n",
    "    set_number = a[0]\n",
    "    mod_value = a[1]\n",
    "    \n",
    "    lists = []\n",
    "    for i in range(set_number):\n",
    "        lists.append(list(map(int, input().split()))[1:])\n",
    "\n",
    "max_value = max(map(lambda x: sum(o**2 for o in x)%mod_value, product(*lists)))\n",
    "\n",
    "print(max_value)"
   ]
  },
  {
   "cell_type": "code",
   "execution_count": null,
   "metadata": {},
   "outputs": [],
   "source": []
  }
 ],
 "metadata": {
  "kernelspec": {
   "display_name": "Python 3",
   "language": "python",
   "name": "python3"
  },
  "language_info": {
   "codemirror_mode": {
    "name": "ipython",
    "version": 3
   },
   "file_extension": ".py",
   "mimetype": "text/x-python",
   "name": "python",
   "nbconvert_exporter": "python",
   "pygments_lexer": "ipython3",
   "version": "3.7.3"
  }
 },
 "nbformat": 4,
 "nbformat_minor": 2
}
